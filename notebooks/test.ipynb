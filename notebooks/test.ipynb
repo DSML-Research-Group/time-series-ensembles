{
 "cells": [
  {
   "cell_type": "code",
   "execution_count": 19,
   "id": "98fa2f51-2b2a-4a70-b9c5-7efc3a267874",
   "metadata": {},
   "outputs": [
    {
     "name": "stdout",
     "output_type": "stream",
     "text": [
      "  series_name start_timestamp  \\\n",
      "0          T1      1979-01-01   \n",
      "1          T2      1979-01-01   \n",
      "2          T3      1973-01-01   \n",
      "3          T4      1973-01-01   \n",
      "4          T5      1973-01-01   \n",
      "\n",
      "                                        series_value  \n",
      "0  [25092.2284, 24271.5134, 25828.9883, 27697.504...  \n",
      "1  [887896.51, 887068.98, 971549.04, 1064206.39, ...  \n",
      "2  [227921.0, 230995.0, 183635.0, 238605.0, 25418...  \n",
      "3  [18441.0, 21934.0, 23739.0, 34087.0, 40817.0, ...  \n",
      "4  [27186.0, 27921.0, 32385.0, 38746.0, 41356.0, ...  \n"
     ]
    }
   ],
   "source": [
    "from util.data_loader import convert_tsf_to_dataframe\n",
    "import os\n",
    "import pandas as pd\n",
    "from collections import defaultdict\n",
    "\n",
    "data_path = \"data/\"\n",
    "\n",
    "# all_files = os.listdir(data_path)\n",
    "custom_files = [\"tourism_yearly_dataset.tsf\", \"tourism_monthly_dataset.tsf\", \"electricity_weekly_dataset.tsf\"]\n",
    "\n",
    "df_dict = defaultdict(pd.DataFrame)\n",
    "\n",
    "for filename in custom_files:\n",
    "    df,frequency,forecast_horizon,contain_missing_values,contain_equal_length = \\\n",
    "        convert_tsf_to_dataframe(data_path+filename)\n",
    "    df_dict[filename[:-4]] = df\n",
    "\n",
    "print(df_dict[\"tourism_yearly_dataset\"].head())"
   ]
  }
 ],
 "metadata": {
  "kernelspec": {
   "display_name": "Python 3 (ipykernel)",
   "language": "python",
   "name": "python3"
  },
  "language_info": {
   "codemirror_mode": {
    "name": "ipython",
    "version": 3
   },
   "file_extension": ".py",
   "mimetype": "text/x-python",
   "name": "python",
   "nbconvert_exporter": "python",
   "pygments_lexer": "ipython3",
   "version": "3.11.4"
  }
 },
 "nbformat": 4,
 "nbformat_minor": 5
}
